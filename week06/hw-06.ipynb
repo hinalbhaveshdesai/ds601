{
 "cells": [
  {
   "cell_type": "markdown",
   "metadata": {},
   "source": [
    "# Homework 6\n",
    "\n",
    "\n",
    "This homework is designed to process a large csv file (bigger than pandas can handle)\n",
    "https://github.com/msaricaumbc/DS_data/blob/master/bigfile.csv.zip?raw=true\n",
    "\n",
    "Write code to perform/answer the following actions:\n",
    "\n",
    "1. Print how many records processed\n",
    "1. Create a histogram of ages\n",
    "1. List the top 20 occupations \n",
    "\n",
    "Don't use Pandas or Dask"
   ]
  },
  {
   "cell_type": "code",
   "execution_count": 1,
   "metadata": {},
   "outputs": [],
   "source": [
    "from zipfile import ZipFile"
   ]
  },
  {
   "cell_type": "code",
   "execution_count": 2,
   "metadata": {},
   "outputs": [],
   "source": [
    "from urllib import request\n",
    "\n",
    "def download_file(file_name, url):\n",
    "    res = request.urlopen(url)\n",
    "    with open(file_name,'wb') as file:\n",
    "        file.write(res.read())\n",
    "        \n",
    "def unzip(file_name, path='./'):\n",
    "    # opening the zip file in READ mode \n",
    "    with ZipFile(file_name, 'r') as zip: \n",
    "        # printing all the contents of the zip file \n",
    "        zip.printdir() \n",
    "\n",
    "        # extracting all the files \n",
    "        print('Extracting all the files now...') \n",
    "        zip.extractall(path = path) \n",
    "        print('Done!')"
   ]
  },
  {
   "cell_type": "code",
   "execution_count": 3,
   "metadata": {},
   "outputs": [
    {
     "name": "stdout",
     "output_type": "stream",
     "text": [
      "File Name                                             Modified             Size\n",
      "bigfile.csv                                    2022-03-07 20:08:48  18034182194\n",
      "Extracting all the files now...\n",
      "Done!\n"
     ]
    }
   ],
   "source": [
    "file_url = 'https://github.com/msaricaumbc/DS_data/blob/master/bigfile.csv.zip?raw=true'\n",
    "file_name = 'bigfile.csv.zip'\n",
    "\n",
    "download_file(file_name, file_url)\n",
    "unzip(file_name)"
   ]
  },
  {
   "cell_type": "code",
   "execution_count": 4,
   "metadata": {},
   "outputs": [],
   "source": [
    "#Read the file and seperate the age and occupation columns\n",
    "with open('bigfile.csv', 'r') as file:\n",
    "    counter = 0\n",
    "    age = []\n",
    "    occupation = []\n",
    "    while(True):\n",
    "        line = file.readline()\n",
    "        if not line:\n",
    "            break\n",
    "        values = line.split(',')\n",
    "        age.append(values[3])\n",
    "        occupation.append(values[4])\n",
    "        counter += 1"
   ]
  },
  {
   "cell_type": "code",
   "execution_count": 5,
   "metadata": {},
   "outputs": [
    {
     "name": "stdout",
     "output_type": "stream",
     "text": [
      "The number of records processed are: 600000\n"
     ]
    }
   ],
   "source": [
    "#Print how many records processed\n",
    "print(\"The number of records processed are:\", counter)"
   ]
  },
  {
   "cell_type": "code",
   "execution_count": 6,
   "metadata": {
    "scrolled": false
   },
   "outputs": [
    {
     "data": {
      "text/plain": [
       "(array([1.57791e+05, 1.18469e+05, 1.31458e+05, 9.68830e+04, 6.01240e+04,\n",
       "        2.44930e+04, 8.50300e+03, 1.87000e+03, 3.72000e+02, 3.70000e+01]),\n",
       " array([ 17. ,  33.5,  50. ,  66.5,  83. ,  99.5, 116. , 132.5, 149. ,\n",
       "        165.5, 182. ]),\n",
       " <BarContainer object of 10 artists>)"
      ]
     },
     "execution_count": 6,
     "metadata": {},
     "output_type": "execute_result"
    },
    {
     "data": {
      "image/png": "[encoded data removed]",
      "text/plain": [
       "<Figure size 576x576 with 1 Axes>"
      ]
     },
     "metadata": {
      "needs_background": "light"
     },
     "output_type": "display_data"
    }
   ],
   "source": [
    "#Create a histogram of ages\n",
    "from matplotlib import pyplot as plt\n",
    "\n",
    "for i in range(0, len(age)):\n",
    "    age[i] = int(age[i])\n",
    "age.sort()\n",
    "\n",
    "plt.figure(figsize=(8,8))\n",
    "plt.title('Histogram for Age')\n",
    "plt.xlabel('Age')\n",
    "plt.ylabel('Count')\n",
    "plt.hist(age)"
   ]
  },
  {
   "cell_type": "code",
   "execution_count": 8,
   "metadata": {
    "scrolled": false
   },
   "outputs": [
    {
     "name": "stdout",
     "output_type": "stream",
     "text": [
      "[('Scientist- product/process development', 1064), ('Psychiatric nurse', 1037), ('Therapist- sports', 1030), ('Toxicologist', 1024), ('Social researcher', 1021), ('Environmental health practitioner', 1020), ('Naval architect', 1019), ('Teacher- primary school', 1018), ('Administrator- charities/voluntary organisations', 1018), ('Chartered loss adjuster', 1012), ('Photographer', 1008), ('Field trials officer', 1008), ('Radio producer', 1006), ('Ranger/warden', 1004), ('Electrical engineer', 1004), ('Radiographer- diagnostic', 1004), ('Acupuncturist', 1003), ('Administrator- education', 1003), ('Quantity surveyor', 1002), ('Research scientist (medical)', 1001)]\n"
     ]
    }
   ],
   "source": [
    "#List the top 20 occupations\n",
    "import collections\n",
    "occupation_group=collections.Counter(occupation)\n",
    "print(occupation_group.most_common(20))"
   ]
  }
 ],
 "metadata": {
  "kernelspec": {
   "display_name": "Python 3 (ipykernel)",
   "language": "python",
   "name": "python3"
  },
  "language_info": {
   "codemirror_mode": {
    "name": "ipython",
    "version": 3
   },
   "file_extension": ".py",
   "mimetype": "text/x-python",
   "name": "python",
   "nbconvert_exporter": "python",
   "pygments_lexer": "ipython3",
   "version": "3.9.7"
  },
  "toc": {
   "base_numbering": 1,
   "nav_menu": {},
   "number_sections": true,
   "sideBar": true,
   "skip_h1_title": false,
   "title_cell": "Table of Contents",
   "title_sidebar": "Contents",
   "toc_cell": false,
   "toc_position": {},
   "toc_section_display": true,
   "toc_window_display": false
  },
  "varInspector": {
   "cols": {
    "lenName": 16,
    "lenType": 16,
    "lenVar": 40
   },
   "kernels_config": {
    "python": {
     "delete_cmd_postfix": "",
     "delete_cmd_prefix": "del ",
     "library": "var_list.py",
     "varRefreshCmd": "print(var_dic_list())"
    },
    "r": {
     "delete_cmd_postfix": ") ",
     "delete_cmd_prefix": "rm(",
     "library": "var_list.r",
     "varRefreshCmd": "cat(var_dic_list()) "
    }
   },
   "types_to_exclude": [
    "module",
    "function",
    "builtin_function_or_method",
    "instance",
    "_Feature"
   ],
   "window_display": false
  }
 },
 "nbformat": 4,
 "nbformat_minor": 2
}
