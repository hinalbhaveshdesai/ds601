{
 "cells": [
  {
   "cell_type": "code",
   "execution_count": 33,
   "id": "af400a46",
   "metadata": {},
   "outputs": [],
   "source": [
    "class ArrayList(list):\n",
    "    def __init__(self, arr = []):\n",
    "        self.arr = arr\n",
    "        \n",
    "    def append(self, item):\n",
    "        self.arr.append(item)\n",
    "        \n",
    "    def __repr__(self):\n",
    "        return f'{self.arr}'\n",
    "    \n",
    "    def __len__(self):\n",
    "        return len(self.arr)\n",
    "    \n",
    "    def __getitem__(self, n):\n",
    "        return self.arr[n]\n",
    "    \n",
    "    def clear(self):\n",
    "        return self.arr.clear()\n",
    "    \n",
    "    def __add__(self, other):\n",
    "        if(len(self) == len(other)):\n",
    "            i = 0\n",
    "            result = ArrayList()\n",
    "            while i < len(self):\n",
    "                result.append(self[i] + other[i])\n",
    "                i += 1\n",
    "        return result\n",
    "    pass"
   ]
  },
  {
   "cell_type": "code",
   "execution_count": 34,
   "id": "a91c7630",
   "metadata": {},
   "outputs": [
    {
     "data": {
      "text/plain": [
       "[1, 2, 1, 2]"
      ]
     },
     "execution_count": 34,
     "metadata": {},
     "output_type": "execute_result"
    }
   ],
   "source": [
    "[1,2]+[1,2]"
   ]
  },
  {
   "cell_type": "code",
   "execution_count": 35,
   "id": "57539be9",
   "metadata": {},
   "outputs": [
    {
     "data": {
      "text/plain": [
       "[1, 2, 3]"
      ]
     },
     "execution_count": 35,
     "metadata": {},
     "output_type": "execute_result"
    }
   ],
   "source": [
    "s1 = ArrayList([1,2])\n",
    "s1.append(3)\n",
    "s1"
   ]
  },
  {
   "cell_type": "code",
   "execution_count": 36,
   "id": "e1937b62",
   "metadata": {},
   "outputs": [
    {
     "data": {
      "text/plain": [
       "3"
      ]
     },
     "execution_count": 36,
     "metadata": {},
     "output_type": "execute_result"
    }
   ],
   "source": [
    "s1 = ArrayList([1,2,3])\n",
    "len(s1)"
   ]
  },
  {
   "cell_type": "code",
   "execution_count": 37,
   "id": "c4cdb61c",
   "metadata": {},
   "outputs": [
    {
     "data": {
      "text/plain": [
       "1"
      ]
     },
     "execution_count": 37,
     "metadata": {},
     "output_type": "execute_result"
    }
   ],
   "source": [
    "s1 = ArrayList([1,2,3])\n",
    "s1[0]"
   ]
  },
  {
   "cell_type": "code",
   "execution_count": 38,
   "id": "0296ef86",
   "metadata": {},
   "outputs": [
    {
     "data": {
      "text/plain": [
       "0"
      ]
     },
     "execution_count": 38,
     "metadata": {},
     "output_type": "execute_result"
    }
   ],
   "source": [
    "s1 = ArrayList([1,2,3])\n",
    "s1.clear()\n",
    "len(s1)"
   ]
  },
  {
   "cell_type": "code",
   "execution_count": 39,
   "id": "5da18997",
   "metadata": {},
   "outputs": [
    {
     "data": {
      "text/plain": [
       "[3, 5, 7]"
      ]
     },
     "execution_count": 39,
     "metadata": {},
     "output_type": "execute_result"
    }
   ],
   "source": [
    "s1 = ArrayList([1,2,3])\n",
    "s2 = ArrayList([2,3,4])\n",
    "\n",
    "s1 + s2"
   ]
  },
  {
   "cell_type": "code",
   "execution_count": 40,
   "id": "378e42b5",
   "metadata": {},
   "outputs": [
    {
     "name": "stdout",
     "output_type": "stream",
     "text": [
      "[1, 2, 3]\n"
     ]
    }
   ],
   "source": [
    "print(s1)"
   ]
  },
  {
   "cell_type": "code",
   "execution_count": 41,
   "id": "b46fcb87",
   "metadata": {},
   "outputs": [
    {
     "data": {
      "text/plain": [
       "['__add__',\n",
       " '__class__',\n",
       " '__class_getitem__',\n",
       " '__contains__',\n",
       " '__delattr__',\n",
       " '__delitem__',\n",
       " '__dict__',\n",
       " '__dir__',\n",
       " '__doc__',\n",
       " '__eq__',\n",
       " '__format__',\n",
       " '__ge__',\n",
       " '__getattribute__',\n",
       " '__getitem__',\n",
       " '__gt__',\n",
       " '__hash__',\n",
       " '__iadd__',\n",
       " '__imul__',\n",
       " '__init__',\n",
       " '__init_subclass__',\n",
       " '__iter__',\n",
       " '__le__',\n",
       " '__len__',\n",
       " '__lt__',\n",
       " '__module__',\n",
       " '__mul__',\n",
       " '__ne__',\n",
       " '__new__',\n",
       " '__reduce__',\n",
       " '__reduce_ex__',\n",
       " '__repr__',\n",
       " '__reversed__',\n",
       " '__rmul__',\n",
       " '__setattr__',\n",
       " '__setitem__',\n",
       " '__sizeof__',\n",
       " '__str__',\n",
       " '__subclasshook__',\n",
       " '__weakref__',\n",
       " 'append',\n",
       " 'arr',\n",
       " 'clear',\n",
       " 'copy',\n",
       " 'count',\n",
       " 'extend',\n",
       " 'index',\n",
       " 'insert',\n",
       " 'pop',\n",
       " 'remove',\n",
       " 'reverse',\n",
       " 'sort']"
      ]
     },
     "execution_count": 41,
     "metadata": {},
     "output_type": "execute_result"
    }
   ],
   "source": [
    "dir(s1)"
   ]
  },
  {
   "cell_type": "code",
   "execution_count": null,
   "id": "47b30d3d",
   "metadata": {},
   "outputs": [],
   "source": []
  }
 ],
 "metadata": {
  "kernelspec": {
   "display_name": "Python 3 (ipykernel)",
   "language": "python",
   "name": "python3"
  },
  "language_info": {
   "codemirror_mode": {
    "name": "ipython",
    "version": 3
   },
   "file_extension": ".py",
   "mimetype": "text/x-python",
   "name": "python",
   "nbconvert_exporter": "python",
   "pygments_lexer": "ipython3",
   "version": "3.9.7"
  }
 },
 "nbformat": 4,
 "nbformat_minor": 5
}
