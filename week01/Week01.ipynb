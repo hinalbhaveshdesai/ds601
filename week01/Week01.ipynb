{
 "cells": [
  {
   "attachments": {},
   "cell_type": "markdown",
   "id": "36799fe1",
   "metadata": {},
   "source": [
    "# Question-1\n",
    "Write a Python function to return a list of all the numbers from 1 to n which are divisible by 5. n will be given as an argument to your function."
   ]
  },
  {
   "cell_type": "code",
   "execution_count": 1,
   "id": "732e06d4",
   "metadata": {},
   "outputs": [
    {
     "name": "stdout",
     "output_type": "stream",
     "text": [
      "[5, 10, 15, 20, 25, 30, 35, 40, 45, 50, 55, 60, 65, 70, 75, 80, 85, 90, 95, 100, 105, 110, 115, 120]\n"
     ]
    }
   ],
   "source": [
    "def get_numbers_divisible_by_five(given_number):\n",
    "    list = []\n",
    "    for x in range(1, given_number+1):\n",
    "        if(x%5==0):\n",
    "            list.append(x)\n",
    "    return list\n",
    "\n",
    "list_of_numbers = get_numbers_divisible_by_five(120)\n",
    "print(list_of_numbers)"
   ]
  },
  {
   "cell_type": "markdown",
   "id": "f3bc99a4",
   "metadata": {},
   "source": [
    "# Question-2\n",
    "Write a function that returns the sum of the parameters"
   ]
  },
  {
   "cell_type": "code",
   "execution_count": 2,
   "id": "12966008",
   "metadata": {
    "scrolled": true
   },
   "outputs": [
    {
     "data": {
      "text/plain": [
       "8"
      ]
     },
     "execution_count": 2,
     "metadata": {},
     "output_type": "execute_result"
    }
   ],
   "source": [
    "def my_function(a, b):\n",
    "    return a+b\n",
    "\n",
    "my_function(3, 5)"
   ]
  },
  {
   "cell_type": "markdown",
   "id": "f111dee5",
   "metadata": {},
   "source": [
    "# Question-3\n",
    "(Shell & Magic Commands)"
   ]
  },
  {
   "cell_type": "markdown",
   "id": "06e4ebc6",
   "metadata": {},
   "source": [
    "#### Question-3-a\n",
    "Below print current working directory."
   ]
  },
  {
   "cell_type": "code",
   "execution_count": 3,
   "id": "3eb77d22",
   "metadata": {},
   "outputs": [
    {
     "name": "stdout",
     "output_type": "stream",
     "text": [
      "Current working directory: C:\\Work\\DS601\n"
     ]
    }
   ],
   "source": [
    "#printing the current working directory\n",
    "import os\n",
    "print(\"Current working directory: {0}\".format(os.getcwd()))"
   ]
  },
  {
   "cell_type": "markdown",
   "id": "75569d87",
   "metadata": {},
   "source": [
    "#### Question-3-b\n",
    "Below list all the files and folders in the current working directory"
   ]
  },
  {
   "cell_type": "code",
   "execution_count": 4,
   "id": "2e50694e",
   "metadata": {},
   "outputs": [
    {
     "name": "stdout",
     "output_type": "stream",
     "text": [
      "Below are the files and folders in the current working directory: ['.ipynb_checkpoints', 'my_script.ipynb', 'Week01.ipynb']\n"
     ]
    }
   ],
   "source": [
    "#printing list of files and folders in current working directory\n",
    "print(\"Below are the files and folders in the current working directory: {0}\".format(os.listdir('.')))"
   ]
  },
  {
   "cell_type": "markdown",
   "id": "e3d5555f",
   "metadata": {},
   "source": [
    "#### Question-3-c\n",
    "Create 'my_script.py' that prints 'Your First Name-Your Last Name' in the same directory and run this scripy in the cell below."
   ]
  },
  {
   "cell_type": "code",
   "execution_count": 5,
   "id": "f15756ca",
   "metadata": {},
   "outputs": [
    {
     "name": "stdout",
     "output_type": "stream",
     "text": [
      "Hinal Desai\n"
     ]
    }
   ],
   "source": [
    "#running another python notebook\n",
    "%run ./my_script.ipynb"
   ]
  }
 ],
 "metadata": {
  "kernelspec": {
   "display_name": "Python 3 (ipykernel)",
   "language": "python",
   "name": "python3"
  },
  "language_info": {
   "codemirror_mode": {
    "name": "ipython",
    "version": 3
   },
   "file_extension": ".py",
   "mimetype": "text/x-python",
   "name": "python",
   "nbconvert_exporter": "python",
   "pygments_lexer": "ipython3",
   "version": "3.9.7"
  }
 },
 "nbformat": 4,
 "nbformat_minor": 5
}
