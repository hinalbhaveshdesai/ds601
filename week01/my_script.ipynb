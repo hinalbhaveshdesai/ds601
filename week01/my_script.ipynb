{
 "cells": [
  {
   "cell_type": "markdown",
   "id": "0eaeeacd",
   "metadata": {},
   "source": [
    "This notebook prints my first and last name"
   ]
  },
  {
   "cell_type": "code",
   "execution_count": 1,
   "id": "bf9ece3e",
   "metadata": {},
   "outputs": [
    {
     "name": "stdout",
     "output_type": "stream",
     "text": [
      "Hinal Desai\n"
     ]
    }
   ],
   "source": [
    "print(\"Hinal Desai\")"
   ]
  }
 ],
 "metadata": {
  "kernelspec": {
   "display_name": "Python 3 (ipykernel)",
   "language": "python",
   "name": "python3"
  },
  "language_info": {
   "codemirror_mode": {
    "name": "ipython",
    "version": 3
   },
   "file_extension": ".py",
   "mimetype": "text/x-python",
   "name": "python",
   "nbconvert_exporter": "python",
   "pygments_lexer": "ipython3",
   "version": "3.9.7"
  }
 },
 "nbformat": 4,
 "nbformat_minor": 5
}
