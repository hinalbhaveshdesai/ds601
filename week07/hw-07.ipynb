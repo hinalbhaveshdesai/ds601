{
 "cells": [
  {
   "cell_type": "code",
   "execution_count": 1,
   "id": "fe90f7fe",
   "metadata": {},
   "outputs": [
    {
     "name": "stdout",
     "output_type": "stream",
     "text": [
      "Requirement already satisfied: Faker in c:\\users\\hinal\\anaconda3\\lib\\site-packages (13.3.4)\n",
      "Requirement already satisfied: python-dateutil>=2.4 in c:\\users\\hinal\\anaconda3\\lib\\site-packages (from Faker) (2.8.2)\n",
      "Requirement already satisfied: six>=1.5 in c:\\users\\hinal\\anaconda3\\lib\\site-packages (from python-dateutil>=2.4->Faker) (1.16.0)\n",
      "Note: you may need to restart the kernel to use updated packages.\n"
     ]
    }
   ],
   "source": [
    "pip install Faker"
   ]
  },
  {
   "cell_type": "code",
   "execution_count": 2,
   "id": "747d8e17",
   "metadata": {},
   "outputs": [],
   "source": [
    "from faker import Faker\n",
    "import pandas as pd\n",
    "import random\n",
    "import seaborn as sns\n",
    "from matplotlib import pyplot as plt\n",
    "fake = Faker()"
   ]
  },
  {
   "cell_type": "code",
   "execution_count": 3,
   "id": "de5916a1",
   "metadata": {},
   "outputs": [],
   "source": [
    "#Create the dataframes\n",
    "states = ['Connecticut','Delaware','Florida','Georgia','Maine','Maryland','Massachusetts','New Hampshire','New Jersey','New York','North Carolina','Rhode Island','South Carolina','Virginia']\n",
    "\n",
    "employees = pd.DataFrame([{'id': i+1,\n",
    "                'name': fake.first_name(),\n",
    "                'lastname' : fake.last_name(),\n",
    "                'phone': fake.phone_number(),\n",
    "                'state': random.choice(states)} for i in range (10000)])\n",
    "\n",
    "salary = pd.DataFrame([{'id': i+1,\n",
    "             'departmentid': random.randint(1,7),\n",
    "             'annualsalary': random.randint(50000,200000)} for i in range (10000)])\n",
    "\n",
    "department = pd.DataFrame({'id': [1, 2, 3, 4, 5, 6, 7],\n",
    "                 'name': [ 'Marketing', 'Finance', 'Operations management', 'Human Resource', 'IT', 'Sales', 'Production']})"
   ]
  },
  {
   "cell_type": "code",
   "execution_count": 4,
   "id": "8761e7f3",
   "metadata": {},
   "outputs": [
    {
     "data": {
      "text/html": [
       "<div>\n",
       "<style scoped>\n",
       "    .dataframe tbody tr th:only-of-type {\n",
       "        vertical-align: middle;\n",
       "    }\n",
       "\n",
       "    .dataframe tbody tr th {\n",
       "        vertical-align: top;\n",
       "    }\n",
       "\n",
       "    .dataframe thead th {\n",
       "        text-align: right;\n",
       "    }\n",
       "</style>\n",
       "<table border=\"1\" class=\"dataframe\">\n",
       "  <thead>\n",
       "    <tr style=\"text-align: right;\">\n",
       "      <th></th>\n",
       "      <th>id</th>\n",
       "      <th>name</th>\n",
       "      <th>lastname</th>\n",
       "      <th>phone</th>\n",
       "      <th>state</th>\n",
       "    </tr>\n",
       "  </thead>\n",
       "  <tbody>\n",
       "    <tr>\n",
       "      <th>0</th>\n",
       "      <td>1</td>\n",
       "      <td>Chad</td>\n",
       "      <td>Johnson</td>\n",
       "      <td>093-361-0190x67001</td>\n",
       "      <td>Georgia</td>\n",
       "    </tr>\n",
       "    <tr>\n",
       "      <th>1</th>\n",
       "      <td>2</td>\n",
       "      <td>Jason</td>\n",
       "      <td>Phillips</td>\n",
       "      <td>156-596-6260</td>\n",
       "      <td>Connecticut</td>\n",
       "    </tr>\n",
       "    <tr>\n",
       "      <th>2</th>\n",
       "      <td>3</td>\n",
       "      <td>Glen</td>\n",
       "      <td>Moon</td>\n",
       "      <td>997-308-8812</td>\n",
       "      <td>North Carolina</td>\n",
       "    </tr>\n",
       "    <tr>\n",
       "      <th>3</th>\n",
       "      <td>4</td>\n",
       "      <td>Jennifer</td>\n",
       "      <td>Carter</td>\n",
       "      <td>486-166-4765</td>\n",
       "      <td>New Jersey</td>\n",
       "    </tr>\n",
       "    <tr>\n",
       "      <th>4</th>\n",
       "      <td>5</td>\n",
       "      <td>Jack</td>\n",
       "      <td>Garcia</td>\n",
       "      <td>(435)400-0317x150</td>\n",
       "      <td>Georgia</td>\n",
       "    </tr>\n",
       "    <tr>\n",
       "      <th>...</th>\n",
       "      <td>...</td>\n",
       "      <td>...</td>\n",
       "      <td>...</td>\n",
       "      <td>...</td>\n",
       "      <td>...</td>\n",
       "    </tr>\n",
       "    <tr>\n",
       "      <th>9995</th>\n",
       "      <td>9996</td>\n",
       "      <td>Donald</td>\n",
       "      <td>Keller</td>\n",
       "      <td>065.113.1982x707</td>\n",
       "      <td>Maryland</td>\n",
       "    </tr>\n",
       "    <tr>\n",
       "      <th>9996</th>\n",
       "      <td>9997</td>\n",
       "      <td>Rebecca</td>\n",
       "      <td>Ford</td>\n",
       "      <td>+1-166-448-6872x55885</td>\n",
       "      <td>Rhode Island</td>\n",
       "    </tr>\n",
       "    <tr>\n",
       "      <th>9997</th>\n",
       "      <td>9998</td>\n",
       "      <td>Kelly</td>\n",
       "      <td>Swanson</td>\n",
       "      <td>001-967-774-5364</td>\n",
       "      <td>Virginia</td>\n",
       "    </tr>\n",
       "    <tr>\n",
       "      <th>9998</th>\n",
       "      <td>9999</td>\n",
       "      <td>Michael</td>\n",
       "      <td>Adams</td>\n",
       "      <td>001-011-821-2447x188</td>\n",
       "      <td>Maine</td>\n",
       "    </tr>\n",
       "    <tr>\n",
       "      <th>9999</th>\n",
       "      <td>10000</td>\n",
       "      <td>Jimmy</td>\n",
       "      <td>Jones</td>\n",
       "      <td>545-333-3078x879</td>\n",
       "      <td>Connecticut</td>\n",
       "    </tr>\n",
       "  </tbody>\n",
       "</table>\n",
       "<p>10000 rows × 5 columns</p>\n",
       "</div>"
      ],
      "text/plain": [
       "         id      name  lastname                  phone           state\n",
       "0         1      Chad   Johnson     093-361-0190x67001         Georgia\n",
       "1         2     Jason  Phillips           156-596-6260     Connecticut\n",
       "2         3      Glen      Moon           997-308-8812  North Carolina\n",
       "3         4  Jennifer    Carter           486-166-4765      New Jersey\n",
       "4         5      Jack    Garcia      (435)400-0317x150         Georgia\n",
       "...     ...       ...       ...                    ...             ...\n",
       "9995   9996    Donald    Keller       065.113.1982x707        Maryland\n",
       "9996   9997   Rebecca      Ford  +1-166-448-6872x55885    Rhode Island\n",
       "9997   9998     Kelly   Swanson       001-967-774-5364        Virginia\n",
       "9998   9999   Michael     Adams   001-011-821-2447x188           Maine\n",
       "9999  10000     Jimmy     Jones       545-333-3078x879     Connecticut\n",
       "\n",
       "[10000 rows x 5 columns]"
      ]
     },
     "execution_count": 4,
     "metadata": {},
     "output_type": "execute_result"
    }
   ],
   "source": [
    "employees"
   ]
  },
  {
   "cell_type": "code",
   "execution_count": 5,
   "id": "5a76b978",
   "metadata": {},
   "outputs": [
    {
     "data": {
      "text/html": [
       "<div>\n",
       "<style scoped>\n",
       "    .dataframe tbody tr th:only-of-type {\n",
       "        vertical-align: middle;\n",
       "    }\n",
       "\n",
       "    .dataframe tbody tr th {\n",
       "        vertical-align: top;\n",
       "    }\n",
       "\n",
       "    .dataframe thead th {\n",
       "        text-align: right;\n",
       "    }\n",
       "</style>\n",
       "<table border=\"1\" class=\"dataframe\">\n",
       "  <thead>\n",
       "    <tr style=\"text-align: right;\">\n",
       "      <th></th>\n",
       "      <th>id</th>\n",
       "      <th>departmentid</th>\n",
       "      <th>annualsalary</th>\n",
       "    </tr>\n",
       "  </thead>\n",
       "  <tbody>\n",
       "    <tr>\n",
       "      <th>0</th>\n",
       "      <td>1</td>\n",
       "      <td>6</td>\n",
       "      <td>109353</td>\n",
       "    </tr>\n",
       "    <tr>\n",
       "      <th>1</th>\n",
       "      <td>2</td>\n",
       "      <td>1</td>\n",
       "      <td>167272</td>\n",
       "    </tr>\n",
       "    <tr>\n",
       "      <th>2</th>\n",
       "      <td>3</td>\n",
       "      <td>4</td>\n",
       "      <td>153364</td>\n",
       "    </tr>\n",
       "    <tr>\n",
       "      <th>3</th>\n",
       "      <td>4</td>\n",
       "      <td>2</td>\n",
       "      <td>148177</td>\n",
       "    </tr>\n",
       "    <tr>\n",
       "      <th>4</th>\n",
       "      <td>5</td>\n",
       "      <td>6</td>\n",
       "      <td>108975</td>\n",
       "    </tr>\n",
       "    <tr>\n",
       "      <th>...</th>\n",
       "      <td>...</td>\n",
       "      <td>...</td>\n",
       "      <td>...</td>\n",
       "    </tr>\n",
       "    <tr>\n",
       "      <th>9995</th>\n",
       "      <td>9996</td>\n",
       "      <td>2</td>\n",
       "      <td>104251</td>\n",
       "    </tr>\n",
       "    <tr>\n",
       "      <th>9996</th>\n",
       "      <td>9997</td>\n",
       "      <td>2</td>\n",
       "      <td>109764</td>\n",
       "    </tr>\n",
       "    <tr>\n",
       "      <th>9997</th>\n",
       "      <td>9998</td>\n",
       "      <td>2</td>\n",
       "      <td>170150</td>\n",
       "    </tr>\n",
       "    <tr>\n",
       "      <th>9998</th>\n",
       "      <td>9999</td>\n",
       "      <td>4</td>\n",
       "      <td>134266</td>\n",
       "    </tr>\n",
       "    <tr>\n",
       "      <th>9999</th>\n",
       "      <td>10000</td>\n",
       "      <td>5</td>\n",
       "      <td>196227</td>\n",
       "    </tr>\n",
       "  </tbody>\n",
       "</table>\n",
       "<p>10000 rows × 3 columns</p>\n",
       "</div>"
      ],
      "text/plain": [
       "         id  departmentid  annualsalary\n",
       "0         1             6        109353\n",
       "1         2             1        167272\n",
       "2         3             4        153364\n",
       "3         4             2        148177\n",
       "4         5             6        108975\n",
       "...     ...           ...           ...\n",
       "9995   9996             2        104251\n",
       "9996   9997             2        109764\n",
       "9997   9998             2        170150\n",
       "9998   9999             4        134266\n",
       "9999  10000             5        196227\n",
       "\n",
       "[10000 rows x 3 columns]"
      ]
     },
     "execution_count": 5,
     "metadata": {},
     "output_type": "execute_result"
    }
   ],
   "source": [
    "salary"
   ]
  },
  {
   "cell_type": "code",
   "execution_count": 6,
   "id": "8aaf028b",
   "metadata": {},
   "outputs": [
    {
     "data": {
      "text/html": [
       "<div>\n",
       "<style scoped>\n",
       "    .dataframe tbody tr th:only-of-type {\n",
       "        vertical-align: middle;\n",
       "    }\n",
       "\n",
       "    .dataframe tbody tr th {\n",
       "        vertical-align: top;\n",
       "    }\n",
       "\n",
       "    .dataframe thead th {\n",
       "        text-align: right;\n",
       "    }\n",
       "</style>\n",
       "<table border=\"1\" class=\"dataframe\">\n",
       "  <thead>\n",
       "    <tr style=\"text-align: right;\">\n",
       "      <th></th>\n",
       "      <th>id</th>\n",
       "      <th>name</th>\n",
       "    </tr>\n",
       "  </thead>\n",
       "  <tbody>\n",
       "    <tr>\n",
       "      <th>0</th>\n",
       "      <td>1</td>\n",
       "      <td>Marketing</td>\n",
       "    </tr>\n",
       "    <tr>\n",
       "      <th>1</th>\n",
       "      <td>2</td>\n",
       "      <td>Finance</td>\n",
       "    </tr>\n",
       "    <tr>\n",
       "      <th>2</th>\n",
       "      <td>3</td>\n",
       "      <td>Operations management</td>\n",
       "    </tr>\n",
       "    <tr>\n",
       "      <th>3</th>\n",
       "      <td>4</td>\n",
       "      <td>Human Resource</td>\n",
       "    </tr>\n",
       "    <tr>\n",
       "      <th>4</th>\n",
       "      <td>5</td>\n",
       "      <td>IT</td>\n",
       "    </tr>\n",
       "    <tr>\n",
       "      <th>5</th>\n",
       "      <td>6</td>\n",
       "      <td>Sales</td>\n",
       "    </tr>\n",
       "    <tr>\n",
       "      <th>6</th>\n",
       "      <td>7</td>\n",
       "      <td>Production</td>\n",
       "    </tr>\n",
       "  </tbody>\n",
       "</table>\n",
       "</div>"
      ],
      "text/plain": [
       "   id                   name\n",
       "0   1              Marketing\n",
       "1   2                Finance\n",
       "2   3  Operations management\n",
       "3   4         Human Resource\n",
       "4   5                     IT\n",
       "5   6                  Sales\n",
       "6   7             Production"
      ]
     },
     "execution_count": 6,
     "metadata": {},
     "output_type": "execute_result"
    }
   ],
   "source": [
    "department"
   ]
  },
  {
   "cell_type": "code",
   "execution_count": 7,
   "id": "6bf61490",
   "metadata": {},
   "outputs": [
    {
     "data": {
      "text/plain": [
       "<AxesSubplot:title={'center':'Average Salary for each Department'}, xlabel='Departments', ylabel='Salary'>"
      ]
     },
     "execution_count": 7,
     "metadata": {},
     "output_type": "execute_result"
    },
    {
     "data": {
      "image/png": "[encoded data removed]",
      "text/plain": [
       "<Figure size 432x288 with 1 Axes>"
      ]
     },
     "metadata": {
      "needs_background": "light"
     },
     "output_type": "display_data"
    }
   ],
   "source": [
    "#Visualize the average salary of each department\n",
    "avg_salary_depid = salary \\\n",
    "                .groupby('departmentid') \\\n",
    "                .agg(avg_salary = ('annualsalary', 'mean'))\n",
    "avg_salary_dep = avg_salary_depid.merge(department, left_on='departmentid', right_on='id')\n",
    "avg_salary_dep.plot.bar(x='name', y='avg_salary', title = 'Average Salary for each Department', xlabel = 'Departments', ylabel = 'Salary')"
   ]
  },
  {
   "cell_type": "code",
   "execution_count": 8,
   "id": "316ceda9",
   "metadata": {},
   "outputs": [
    {
     "data": {
      "text/html": [
       "<div>\n",
       "<style scoped>\n",
       "    .dataframe tbody tr th:only-of-type {\n",
       "        vertical-align: middle;\n",
       "    }\n",
       "\n",
       "    .dataframe tbody tr th {\n",
       "        vertical-align: top;\n",
       "    }\n",
       "\n",
       "    .dataframe thead th {\n",
       "        text-align: right;\n",
       "    }\n",
       "</style>\n",
       "<table border=\"1\" class=\"dataframe\">\n",
       "  <thead>\n",
       "    <tr style=\"text-align: right;\">\n",
       "      <th></th>\n",
       "      <th>avg_salary</th>\n",
       "      <th>id</th>\n",
       "      <th>name</th>\n",
       "    </tr>\n",
       "  </thead>\n",
       "  <tbody>\n",
       "    <tr>\n",
       "      <th>0</th>\n",
       "      <td>125209.528886</td>\n",
       "      <td>1</td>\n",
       "      <td>Marketing</td>\n",
       "    </tr>\n",
       "    <tr>\n",
       "      <th>1</th>\n",
       "      <td>125713.376344</td>\n",
       "      <td>2</td>\n",
       "      <td>Finance</td>\n",
       "    </tr>\n",
       "    <tr>\n",
       "      <th>2</th>\n",
       "      <td>126343.469602</td>\n",
       "      <td>3</td>\n",
       "      <td>Operations management</td>\n",
       "    </tr>\n",
       "    <tr>\n",
       "      <th>3</th>\n",
       "      <td>125213.353069</td>\n",
       "      <td>4</td>\n",
       "      <td>Human Resource</td>\n",
       "    </tr>\n",
       "    <tr>\n",
       "      <th>4</th>\n",
       "      <td>124812.296395</td>\n",
       "      <td>5</td>\n",
       "      <td>IT</td>\n",
       "    </tr>\n",
       "    <tr>\n",
       "      <th>5</th>\n",
       "      <td>125519.380042</td>\n",
       "      <td>6</td>\n",
       "      <td>Sales</td>\n",
       "    </tr>\n",
       "    <tr>\n",
       "      <th>6</th>\n",
       "      <td>125142.715590</td>\n",
       "      <td>7</td>\n",
       "      <td>Production</td>\n",
       "    </tr>\n",
       "  </tbody>\n",
       "</table>\n",
       "</div>"
      ],
      "text/plain": [
       "      avg_salary  id                   name\n",
       "0  125209.528886   1              Marketing\n",
       "1  125713.376344   2                Finance\n",
       "2  126343.469602   3  Operations management\n",
       "3  125213.353069   4         Human Resource\n",
       "4  124812.296395   5                     IT\n",
       "5  125519.380042   6                  Sales\n",
       "6  125142.715590   7             Production"
      ]
     },
     "execution_count": 8,
     "metadata": {},
     "output_type": "execute_result"
    }
   ],
   "source": [
    "#the below dataframe is just to display the average.\n",
    "avg_salary_dep"
   ]
  },
  {
   "cell_type": "code",
   "execution_count": 9,
   "id": "bdc8cbc3",
   "metadata": {},
   "outputs": [
    {
     "data": {
      "text/plain": [
       "<seaborn.axisgrid.FacetGrid at 0x294aafbe1f0>"
      ]
     },
     "execution_count": 9,
     "metadata": {},
     "output_type": "execute_result"
    },
    {
     "data": {
      "image/png": "[encoded data removed]",
      "text/plain": [
       "<Figure size 360x360 with 2 Axes>"
      ]
     },
     "metadata": {
      "needs_background": "light"
     },
     "output_type": "display_data"
    }
   ],
   "source": [
    "#Visualize the total number of employees living in each state for each department\n",
    "agg_1 = employees.merge(salary, on= 'id')\n",
    "agg_2 = agg_1.merge(department, left_on='departmentid', right_on='id', suffixes=['_emp','_dep'])\n",
    "\n",
    "plot = sns.displot(agg_2, x=\"state\", y=\"name_dep\", cbar = True)\n",
    "plot.ax.tick_params(axis = 'x', labelrotation = 90)\n",
    "plot.ax.set_title(\"Number of Employees living in each State for each Department\")\n",
    "plot.set_xlabels('States')\n",
    "plot.set_ylabels('Departments')"
   ]
  },
  {
   "cell_type": "code",
   "execution_count": 10,
   "id": "ad429a95",
   "metadata": {},
   "outputs": [
    {
     "data": {
      "text/html": [
       "<div>\n",
       "<style scoped>\n",
       "    .dataframe tbody tr th:only-of-type {\n",
       "        vertical-align: middle;\n",
       "    }\n",
       "\n",
       "    .dataframe tbody tr th {\n",
       "        vertical-align: top;\n",
       "    }\n",
       "\n",
       "    .dataframe thead th {\n",
       "        text-align: right;\n",
       "    }\n",
       "</style>\n",
       "<table border=\"1\" class=\"dataframe\">\n",
       "  <thead>\n",
       "    <tr style=\"text-align: right;\">\n",
       "      <th></th>\n",
       "      <th></th>\n",
       "      <th>no_of_employees</th>\n",
       "    </tr>\n",
       "    <tr>\n",
       "      <th>state</th>\n",
       "      <th>name_dep</th>\n",
       "      <th></th>\n",
       "    </tr>\n",
       "  </thead>\n",
       "  <tbody>\n",
       "    <tr>\n",
       "      <th rowspan=\"5\" valign=\"top\">Connecticut</th>\n",
       "      <th>Finance</th>\n",
       "      <td>88</td>\n",
       "    </tr>\n",
       "    <tr>\n",
       "      <th>Human Resource</th>\n",
       "      <td>95</td>\n",
       "    </tr>\n",
       "    <tr>\n",
       "      <th>IT</th>\n",
       "      <td>99</td>\n",
       "    </tr>\n",
       "    <tr>\n",
       "      <th>Marketing</th>\n",
       "      <td>117</td>\n",
       "    </tr>\n",
       "    <tr>\n",
       "      <th>Operations management</th>\n",
       "      <td>97</td>\n",
       "    </tr>\n",
       "    <tr>\n",
       "      <th>...</th>\n",
       "      <th>...</th>\n",
       "      <td>...</td>\n",
       "    </tr>\n",
       "    <tr>\n",
       "      <th rowspan=\"5\" valign=\"top\">Virginia</th>\n",
       "      <th>IT</th>\n",
       "      <td>90</td>\n",
       "    </tr>\n",
       "    <tr>\n",
       "      <th>Marketing</th>\n",
       "      <td>106</td>\n",
       "    </tr>\n",
       "    <tr>\n",
       "      <th>Operations management</th>\n",
       "      <td>93</td>\n",
       "    </tr>\n",
       "    <tr>\n",
       "      <th>Production</th>\n",
       "      <td>94</td>\n",
       "    </tr>\n",
       "    <tr>\n",
       "      <th>Sales</th>\n",
       "      <td>106</td>\n",
       "    </tr>\n",
       "  </tbody>\n",
       "</table>\n",
       "<p>98 rows × 1 columns</p>\n",
       "</div>"
      ],
      "text/plain": [
       "                                   no_of_employees\n",
       "state       name_dep                              \n",
       "Connecticut Finance                             88\n",
       "            Human Resource                      95\n",
       "            IT                                  99\n",
       "            Marketing                          117\n",
       "            Operations management               97\n",
       "...                                            ...\n",
       "Virginia    IT                                  90\n",
       "            Marketing                          106\n",
       "            Operations management               93\n",
       "            Production                          94\n",
       "            Sales                              106\n",
       "\n",
       "[98 rows x 1 columns]"
      ]
     },
     "execution_count": 10,
     "metadata": {},
     "output_type": "execute_result"
    }
   ],
   "source": [
    "#the below dataframe is just to check the count.\n",
    "no_of_employees = agg_2 \\\n",
    "                  .groupby(['state','name_dep']) \\\n",
    "                  .agg(no_of_employees = ('id_emp', 'count'))\n",
    "no_of_employees"
   ]
  },
  {
   "cell_type": "code",
   "execution_count": 11,
   "id": "ddee7d2d",
   "metadata": {},
   "outputs": [
    {
     "data": {
      "text/plain": [
       "Text(0, 0.5, 'Salaries')"
      ]
     },
     "execution_count": 11,
     "metadata": {},
     "output_type": "execute_result"
    },
    {
     "data": {
      "image/png": "[encoded data removed]",
      "text/plain": [
       "<Figure size 432x288 with 1 Axes>"
      ]
     },
     "metadata": {
      "needs_background": "light"
     },
     "output_type": "display_data"
    }
   ],
   "source": [
    "#Visualize salary distribution of different states\n",
    "plot = sns.boxplot(data = agg_2, x = 'state', y = 'annualsalary')\n",
    "plot.axes.tick_params(axis = 'x', labelrotation = 90)\n",
    "plot.axes.set_title(\"Salary Distribution for different States\")\n",
    "plot.set_xlabel(\"States\")\n",
    "plot.set_ylabel(\"Salaries\")"
   ]
  },
  {
   "cell_type": "code",
   "execution_count": 12,
   "id": "79ef1b0d",
   "metadata": {},
   "outputs": [
    {
     "data": {
      "text/plain": [
       "Text(0, 0.5, 'Salaries')"
      ]
     },
     "execution_count": 12,
     "metadata": {},
     "output_type": "execute_result"
    },
    {
     "data": {
      "image/png": "[encoded data removed]",
      "text/plain": [
       "<Figure size 432x288 with 1 Axes>"
      ]
     },
     "metadata": {
      "needs_background": "light"
     },
     "output_type": "display_data"
    }
   ],
   "source": [
    "#Visualize salary distribution of different departments\n",
    "plot = sns.boxplot(data = agg_2, x = 'name_dep', y = 'annualsalary')\n",
    "plot.axes.tick_params(axis = 'x', labelrotation = 90)\n",
    "plot.axes.set_title(\"Salary Distribution for different Departments\")\n",
    "plot.set_xlabel(\"Departments\")\n",
    "plot.set_ylabel(\"Salaries\")"
   ]
  }
 ],
 "metadata": {
  "kernelspec": {
   "display_name": "Python 3 (ipykernel)",
   "language": "python",
   "name": "python3"
  },
  "language_info": {
   "codemirror_mode": {
    "name": "ipython",
    "version": 3
   },
   "file_extension": ".py",
   "mimetype": "text/x-python",
   "name": "python",
   "nbconvert_exporter": "python",
   "pygments_lexer": "ipython3",
   "version": "3.9.7"
  }
 },
 "nbformat": 4,
 "nbformat_minor": 5
}
