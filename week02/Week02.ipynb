{
 "cells": [
  {
   "cell_type": "markdown",
   "id": "6fca044c",
   "metadata": {},
   "source": [
    "#### Function for simulating fair die"
   ]
  },
  {
   "cell_type": "code",
   "execution_count": 1,
   "id": "4e4ae0aa",
   "metadata": {},
   "outputs": [],
   "source": [
    "import random \n",
    "import matplotlib.pyplot as plt\n",
    "import pandas\n",
    "\n",
    "trial_count = 500\n",
    "\n",
    "def fair_die_simulation(trials):\n",
    "    \"\"\"\n",
    "    returns an array of randomly numbers between 1 and 6. \n",
    "    \"\"\"\n",
    "    \n",
    "    options = [1,2,3,4,5,6]\n",
    "    simulations = [random.choice(options) for _ in range(trials)]\n",
    "    return simulations"
   ]
  },
  {
   "cell_type": "markdown",
   "id": "150430fc",
   "metadata": {},
   "source": [
    "#### Function for simulating biased die"
   ]
  },
  {
   "cell_type": "code",
   "execution_count": 2,
   "id": "4f24d03b",
   "metadata": {},
   "outputs": [],
   "source": [
    "def biased_die_simuations(trials, weights=[0.20, 0.10, 0.15, 0.15, 0.15, 0.25]):\n",
    "    \"\"\"\n",
    "    returns an array of randomly numbers between 1 and 6 with the probabilty of assosiated weight. \n",
    "    for instance: for weights: [0.25, 0.15, 0.15, 0.15, 0.15, 0.15]\n",
    "    1 has 0.25 change to be selected, 2 has 0.15 chance and so on...\n",
    "    \"\"\"\n",
    "    options = [1,2,3,4,5,6]\n",
    "    simulations = random.choices(options, weights=(weights), k=trials)\n",
    "    return simulations"
   ]
  },
  {
   "cell_type": "code",
   "execution_count": 3,
   "id": "629e2adb",
   "metadata": {},
   "outputs": [],
   "source": [
    "biased = biased_die_simuations(trial_count)\n",
    "fair = fair_die_simulation(trial_count)"
   ]
  },
  {
   "cell_type": "markdown",
   "id": "f7f1f952",
   "metadata": {},
   "source": [
    "#### Visualization for fair and biased die"
   ]
  },
  {
   "cell_type": "code",
   "execution_count": 4,
   "id": "a5c8e9ed",
   "metadata": {},
   "outputs": [
    {
     "name": "stdout",
     "output_type": "stream",
     "text": [
      "   1's  2's  3's  4's  5's  6's\n",
      "0  102   45   84   82   65  122\n"
     ]
    },
    {
     "data": {
      "image/png": "[encoded data removed]",
      "text/plain": [
       "<Figure size 432x288 with 1 Axes>"
      ]
     },
     "metadata": {
      "needs_background": "light"
     },
     "output_type": "display_data"
    }
   ],
   "source": [
    "##visualisation for biased dice\n",
    "biased_list = [0]*6\n",
    "for i in biased:\n",
    "    biased_list[i-1] += 1\n",
    "    \n",
    "df_biased = pandas.DataFrame([{'1\\'s':biased_list[0],'2\\'s':biased_list[1],'3\\'s':biased_list[2],'4\\'s':biased_list[3],'5\\'s':biased_list[4],'6\\'s':biased_list[5]}])\n",
    "print(df_biased)\n",
    "_=df_biased.plot.bar()\n",
    "_=plt.xticks([])"
   ]
  },
  {
   "cell_type": "code",
   "execution_count": 5,
   "id": "126fbdac",
   "metadata": {},
   "outputs": [
    {
     "name": "stdout",
     "output_type": "stream",
     "text": [
      "   1's  2's  3's  4's  5's  6's\n",
      "0   86   85   89   84   73   83\n"
     ]
    },
    {
     "data": {
      "image/png": "[encoded data removed]",
      "text/plain": [
       "<Figure size 432x288 with 1 Axes>"
      ]
     },
     "metadata": {
      "needs_background": "light"
     },
     "output_type": "display_data"
    }
   ],
   "source": [
    "##visualisation for fair dice\n",
    "fair_list = [0]*6\n",
    "for i in fair:\n",
    "    fair_list[i-1] += 1\n",
    "    \n",
    "df_fair = pandas.DataFrame([{'1\\'s':fair_list[0],'2\\'s':fair_list[1],'3\\'s':fair_list[2],'4\\'s':fair_list[3],'5\\'s':fair_list[4],'6\\'s':fair_list[5]}])\n",
    "print(df_fair)\n",
    "_=df_fair.plot.bar() \n",
    "_=plt.xticks([])"
   ]
  },
  {
   "cell_type": "markdown",
   "id": "7a9f513d",
   "metadata": {},
   "source": [
    "#### Code for simulating multiple rolls"
   ]
  },
  {
   "cell_type": "code",
   "execution_count": 6,
   "id": "050adff3",
   "metadata": {},
   "outputs": [],
   "source": [
    "#code for simulating various trials to find the mean\n",
    "\n",
    "number_of_dice_rolls_per_trial = 1000\n",
    "number_of_trials = 1000\n",
    "\n",
    "biased_mean_list = []\n",
    "unbiased_mean_list = []\n",
    "\n",
    "#finding mean of biased rolls\n",
    "for trial_indx in range(number_of_trials):\n",
    "    mean = sum(biased_die_simuations(number_of_dice_rolls_per_trial))/number_of_dice_rolls_per_trial\n",
    "    biased_mean_list.append(mean)\n",
    "    \n",
    "#finding mean of fair rolls\n",
    "for trial_indx1 in range(number_of_trials):\n",
    "    mean = sum(fair_die_simulation(number_of_dice_rolls_per_trial))/number_of_dice_rolls_per_trial\n",
    "    unbiased_mean_list.append(mean)"
   ]
  },
  {
   "cell_type": "markdown",
   "id": "e0a1dd3f",
   "metadata": {},
   "source": [
    "#### Visualization for multiple rolls"
   ]
  },
  {
   "cell_type": "code",
   "execution_count": 9,
   "id": "7a9ca8b8",
   "metadata": {},
   "outputs": [
    {
     "data": {
      "image/png": "[encoded data removed]",
      "text/plain": [
       "<Figure size 432x288 with 3 Axes>"
      ]
     },
     "metadata": {
      "needs_background": "light"
     },
     "output_type": "display_data"
    }
   ],
   "source": [
    "#plotting the 3 histograms\n",
    "plt.subplot(2,2,1)\n",
    "plt.hist(unbiased_mean_list, bins=range(1,7))\n",
    "plt.xticks([2,2.5,3,3.5,4,4.5])\n",
    "plt.title('Fair Dice Rolls')\n",
    "plt.xlabel('Mean of number on the die')\n",
    "plt.ylabel('Number of trials')\n",
    "\n",
    "plt.subplot(2,2,2)\n",
    "plt.hist(biased_mean_list, bins=range(1,7))\n",
    "plt.xticks([2,2.5,3,3.5,4,4.5])\n",
    "plt.title('Biased Dice Rolls')\n",
    "plt.xlabel('Mean of number on the die')\n",
    "plt.ylabel('Number of trials')\n",
    "\n",
    "plt.subplot(2,2,(3,4))\n",
    "plt.hist(unbiased_mean_list, bins=range(1,7))\n",
    "plt.hist(biased_mean_list, bins=range(1,7), color='red', alpha=1)\n",
    "plt.xticks([2,2.5,3,3.5,4,4.5,5,5.5])\n",
    "plt.title('Comparison of Fair and Biased Dice Rolls')\n",
    "plt.xlabel('Mean of number on the die')\n",
    "plt.ylabel('Number of trials')\n",
    "\n",
    "plt.show()"
   ]
  }
 ],
 "metadata": {
  "kernelspec": {
   "display_name": "Python 3 (ipykernel)",
   "language": "python",
   "name": "python3"
  },
  "language_info": {
   "codemirror_mode": {
    "name": "ipython",
    "version": 3
   },
   "file_extension": ".py",
   "mimetype": "text/x-python",
   "name": "python",
   "nbconvert_exporter": "python",
   "pygments_lexer": "ipython3",
   "version": "3.9.7"
  }
 },
 "nbformat": 4,
 "nbformat_minor": 5
}
